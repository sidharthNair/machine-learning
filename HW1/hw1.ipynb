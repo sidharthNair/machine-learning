{
 "cells": [
  {
   "attachments": {},
   "cell_type": "markdown",
   "metadata": {},
   "source": [
    "# HW1 - CS391L Machine Learning WB (Spring 23)\n",
    "*Submission by - Sidharth Nair (sn25377)*"
   ]
  },
  {
   "attachments": {},
   "cell_type": "markdown",
   "metadata": {},
   "source": [
    "## Problem Statement"
   ]
  },
  {
   "attachments": {},
   "cell_type": "markdown",
   "metadata": {},
   "source": [
    "**Million Dollar Question**\n",
    "\n",
    "For this problem, you will work on the Netflix dataset, where one needs to predict missing (movie, user) ratings. The problem of predicting missing values for a recommender system is formally known as Collaborative Filtering. Read more about the Netflix challenge and the dataset [here](https://www.kaggle.com/datasets/netflix-inc/netflix-prize-data).\n",
    "\n",
    "The complete Netflix dataset has 480,189 users, 17,770 movies, and 100,480,507 ratings. So, the scale of the problem is huge. For this assignment we will work on a much smaller subset of 2000 users, 1821 movies and 220,845 ratings. You can download this subset dataset from Canvas > Files > HW1 > dataset.zip\n",
    "\n",
    "We will take an approach based on Matrix Factorization which was also used by a leading team for Netflix challenge. Let us first introduce some notation. Let there be $u$ users and $m$ movies and let $R\\in \\mathbb{R}^{u\\times m}$ be the ratings matrix where element $R_{ij}$ is the rating given by user $i$ for movie $j$. Note that the matrix $R$ has many missing values - in the entire Netflix dataset, $\\sim 94\\%$ of the entries are missing. Think of factoring the matrix $R\\approx U^T M$, where $U\\in \\mathbb{R}^{k\\times u}$ and $M \\in \\mathbb{R}^{k\\times m}$ and $k\\ll \\min(u, m)$. Intuitively, you can think of column $\\bm{u}_i$ of $U$ as a low-dimensional feature vector for the $i$-th user, and the column $\\bm{m}_j$ of $M$ as a low-dimensional feature vector for the $j$-th movie.\n",
    "\n",
    "Using the above notation,  the rating $R_{ij}$ for a movie $j$ by user $i$ is approximated as $R_{ij}\\approx \\bm{u}_i^T\\bm{m}_j$. Thus, the Matrix Factorization approach involves finding $U$ and $M$ such that $U^TM$ is as close to $R$ as possible. Formally the problem can be stated as:\n",
    "\\begin{equation}\n",
    "  %\\label{eq:prob1}\n",
    "  \\min_{U, M}\\ \\|R-U^TM\\|_F^2+\\lambda(\\|U\\|_F^2+\\|M\\|_F^2),\n",
    "\\end{equation}\n",
    "where $\\|\\cdot\\|_F$ denotes the Frobenius norm, and where we have added regularization terms (as in ridge regression) and the regularization parameter $\\lambda\\in [0, 1]$.\n",
    "\n",
    "This problem is in general hard to solve as both $U$ and $M$ need to be inferred and no known method guarantees the optimal solution. Instead, we use  a heuristic which works well in practice. We use the method of Alternating Minimization, where in each iteration we fix $U$ to compute $M$, and  subsequently fix $M$ to compute $U$, and so on. Now we describe the method to compute $M$ assuming $U$ to be fixed. \n",
    "\n",
    "Let $U$  be fixed, then equation 1 reduces to:\n",
    "\\begin{equation*}\n",
    "  %\\label{eq:prob2}\n",
    "  \\min_{M}\\ \\|R-U^TM\\|_F^2+\\lambda\\|M\\|_F^2,\n",
    "\\end{equation*}\n",
    "This problem can be decoupled in terms of columns of $M$, $\\bm{m}_j$, i.e., \n",
    "\\begin{equation*}\n",
    "  %\\label{eq:prob2}\n",
    "  \\min_{\\{\\bm{m}_1, \\bm{m}_2, \\dots, \\bm{m}_m\\}}\\ \\sum_j\\|\\bm{r}_j-U^T\\bm{m}_j\\|_2^2+\\lambda\\sum_j\\|\\bm{m}_j\\|_2^2,\n",
    "\\end{equation*}\n",
    "where $\\bm{r}_j$ denote the $j$-th column of $R$. Thus, we can solve a separate ridge regression problem for each $j$, i.e.,\n",
    "\\begin{equation*}\n",
    "  %\\label{eq:prob2}\n",
    "  \\min_{\\bm{m}_j}\\ \\|\\bm{r}_j-U^T\\bm{m}_j\\|_2^2+\\lambda\\|\\bm{m}_j\\|_2^2,\n",
    "\\end{equation*}\n",
    "However, the vector $\\bm{r}_j$, which represents ratings for  movie $j$, may have many missing values. Let there be $n_j$ known ratings for the movie $j$. Then,the ridge regression should be solved using only $n_j$ ratings, i.e. let $\\bm{r}_j^{({\\cal K_j})}\\in \\mathbb{R}^{n_j}$ denote the known ratings for movie $j$, and $U^{({\\cal K}_j)}\\in\\mathbb{R}^{k\\times n_j}$ denote the submatrix of $U$ for the corresponding users who rated movie $j$. Thus the problem can be written as:\n",
    "\\begin{equation*}\n",
    "  %\\label{eq:prob2}\n",
    "  \\min_{\\bm{m}_j}\\ \\|\\bm{r}_j^{({\\cal K_j})}-\\left(U^{({\\cal K}_j)}\\right)^T\\bm{m}_j\\|_2^2+\\lambda\\|\\bm{m}_j\\|_2^2,\n",
    "\\end{equation*}\n",
    "\n",
    "An analogous procedure can be used for computing $U$. \n",
    "\n",
    "So, for each iteration compute $U$ and $M$ using the procedure given above. Repeat this procedure for a fixed number of iterations. Initialize $U$ and $M$ randomly, fix the number of iterations $\\tau$ as $30$ and fix $k=10$. "
   ]
  },
  {
   "attachments": {},
   "cell_type": "markdown",
   "metadata": {},
   "source": [
    "## Implementation"
   ]
  },
  {
   "attachments": {},
   "cell_type": "markdown",
   "metadata": {},
   "source": [
    "### Imports"
   ]
  },
  {
   "cell_type": "code",
   "execution_count": 4,
   "metadata": {},
   "outputs": [],
   "source": [
    "import numpy as np\n",
    "import scipy as sp\n",
    "import matplotlib.pyplot as plt"
   ]
  },
  {
   "attachments": {},
   "cell_type": "markdown",
   "metadata": {},
   "source": [
    "### Data Loading"
   ]
  },
  {
   "cell_type": "code",
   "execution_count": 3,
   "metadata": {},
   "outputs": [],
   "source": [
    "trn_R = np.load('trn_R.npy')\n",
    "val_R = np.load('val_R.npy')"
   ]
  },
  {
   "attachments": {},
   "cell_type": "markdown",
   "metadata": {},
   "source": [
    "### Your Code to solve ridge regression"
   ]
  },
  {
   "cell_type": "code",
   "execution_count": null,
   "metadata": {},
   "outputs": [],
   "source": [
    "def solve_ridge(X, y, lamda):\n",
    "    \"\"\"Solve the ridge regression problem.\n",
    "    \n",
    "    Args:\n",
    "        X: A numpy array of shape (N, D) containing a minibatch of N\n",
    "            data points; each point has dimension D.\n",
    "        y: A numpy array of shape (N,) containing labels for the minibatch.\n",
    "        lamda: The regularization strength.\n",
    "    \n",
    "    Returns:\n",
    "        w: A numpy array of shape (D,) containing the learned weight.\n",
    "    \"\"\"\n",
    "    raise NotImplementedError # Remove this line when you implement this function"
   ]
  },
  {
   "attachments": {},
   "cell_type": "markdown",
   "metadata": {},
   "source": [
    "### Your Code to solve matrix completion using alternating minimization"
   ]
  },
  {
   "cell_type": "code",
   "execution_count": null,
   "metadata": {},
   "outputs": [],
   "source": [
    "def update_U(U, M, R, lamda):\n",
    "    \"\"\"Update the user matrix U assuming M is fixed\n",
    "    \n",
    "    Args:\n",
    "        U: A numpy array of shape (k, N) containing the current user matrix.\n",
    "        M: A numpy array of shape (k, M) containing the current movie matrix.\n",
    "        R: A numpy array of shape (N, M) containing the ratings matrix (NOTE: R has many missing values, indicated by 0, which should be ignored during training)\n",
    "        lamda: The regularization strength.\n",
    "    \n",
    "    Returns:\n",
    "        U: A numpy array of shape (k, N) containing the updated user matrix.\n",
    "    \"\"\"\n",
    "    raise NotImplementedError # Remove this line when you implement this function\n",
    "\n",
    "def update_M(U, M, R, lamda):\n",
    "    \"\"\"Update the movie matrix M assuming U is fixed\n",
    "    \n",
    "    Args:\n",
    "        U: A numpy array of shape (k, N) containing the current user matrix.\n",
    "        M: A numpy array of shape (k, M) containing the current movie matrix.\n",
    "        R: A numpy array of shape (N, M) containing the ratings matrix (NOTE: R has many missing values, indicated by 0, which should be ignored during training)\n",
    "        lamda: The regularization strength.\n",
    "    \n",
    "    Returns:\n",
    "        M: A numpy array of shape (k, M) containing the updated movie matrix.\n",
    "    \"\"\"\n",
    "    raise NotImplementedError # Remove this line when you implement this function"
   ]
  },
  {
   "cell_type": "code",
   "execution_count": null,
   "metadata": {},
   "outputs": [],
   "source": [
    "def train(U, M, R, lamda, tau):\n",
    "    \"\"\"Train U, M using alternating minimization\n",
    "    \n",
    "    Args:\n",
    "        U: A numpy array of shape (k, N) containing the user matrix.\n",
    "        M: A numpy array of shape (k, M) containing the movie matrix.\n",
    "        R: A numpy array of shape (N, M) containing the ratings matrix (NOTE: R has many missing values, indicated by 0, which should be ignored during training)\n",
    "        lamda: The regularization strength.\n",
    "        tau: The number of iterations to train for.\n",
    "    \n",
    "    Returns:\n",
    "        U: A numpy array of shape (k, N) containing the trained user matrix.\n",
    "        M: A numpy array of shape (k, M) containing the trained movie matrix.\n",
    "    \"\"\"\n",
    "    raise NotImplementedError # Remove this line when you implement this function"
   ]
  },
  {
   "attachments": {},
   "cell_type": "markdown",
   "metadata": {},
   "source": [
    "### Your code for evaluation"
   ]
  },
  {
   "cell_type": "code",
   "execution_count": null,
   "metadata": {},
   "outputs": [],
   "source": [
    "def evaluate(pred_R, true_R):\n",
    "    \"\"\"Evaluate the model on the given rating matrix R and return the RMSE\n",
    "\n",
    "    Args:\n",
    "        pred_R: A numpy array of shape (N, M) containing the predicted ratings matrix.\n",
    "        true_R: A numpy array of shape (N, M) containing the true ratings matrix (NOTE: R has many missing values, indicated by 0, which should be ignored during evaluation)\n",
    "    \n",
    "    Returns:\n",
    "        rmse: The RMSE of the predicted ratings matrix.\n",
    "    \"\"\"\n",
    "    raise NotImplementedError # Remove this line when you implement this function"
   ]
  },
  {
   "attachments": {},
   "cell_type": "markdown",
   "metadata": {},
   "source": [
    "## Execute your code and answer HW questions"
   ]
  },
  {
   "attachments": {},
   "cell_type": "markdown",
   "metadata": {},
   "source": [
    "### Define hyperparameters ($\\lambda$, $\\tau$, $k$) and initialize learnable parameters $U$, $M$"
   ]
  },
  {
   "cell_type": "code",
   "execution_count": null,
   "metadata": {},
   "outputs": [],
   "source": [
    "# Your code here"
   ]
  },
  {
   "attachments": {},
   "cell_type": "markdown",
   "metadata": {},
   "source": [
    "### **Qusetion 1**\n",
    "Select $λ = 0$ and compute $U$ and $M$. What are the problems you face?\n",
    "### **Your answer**\n",
    "TODO: "
   ]
  },
  {
   "cell_type": "code",
   "execution_count": null,
   "metadata": {},
   "outputs": [],
   "source": [
    "# Your code here"
   ]
  },
  {
   "attachments": {},
   "cell_type": "markdown",
   "metadata": {},
   "source": [
    "### **Qusetion 2**\n",
    "train your model on multiple values for $\\lambda$ and record the Root Mean Squared Error (RMSE) on both validation and train set for each run. Report the following:\n",
    "- Plot of $\\lambda$ vs RMSE on validation set and training set\n",
    "- Optimal RMSE on validation set along with the optimal $\\lambda$\n",
    "\n",
    "### **Your answer**\n",
    "TODO: \n"
   ]
  },
  {
   "cell_type": "code",
   "execution_count": null,
   "metadata": {},
   "outputs": [],
   "source": [
    "# Your code here"
   ]
  },
  {
   "attachments": {},
   "cell_type": "markdown",
   "metadata": {},
   "source": [
    "### **Qusetion 3** \n",
    "Now let us consider preprocessing the data in order to remove some inherent bias in the data. First center the complete data using global mean. Now, center each row of the ratings matrix $R$ to mean 0, i.e. remove user mean for each row. Similarly center each coumn of the resulting matrix. Perform the above operations on known ratings only. After this preprocessing, repeat question 2 above and report the optimal RMSE on validation set. NOTE that after factorization, you need to add the global mean and the user/movie bias for prediction. Report RMSE obtained. How does RMSE change? Explain.\n",
    "### **Your Answer**\n",
    "TODO: "
   ]
  },
  {
   "cell_type": "code",
   "execution_count": null,
   "metadata": {},
   "outputs": [],
   "source": [
    "# Your code here"
   ]
  },
  {
   "attachments": {},
   "cell_type": "markdown",
   "metadata": {},
   "source": [
    "### **Question 4**\n",
    "What other initialization for $U$ and $M$ can be used? What is the problem with using the zero matrix as the initialization for $U$ and $M$.\n",
    "### **Your answer**\n",
    "TODO: "
   ]
  },
  {
   "cell_type": "code",
   "execution_count": 5,
   "metadata": {},
   "outputs": [],
   "source": [
    "# Your code here"
   ]
  }
 ],
 "metadata": {
  "kernelspec": {
   "display_name": "base",
   "language": "python",
   "name": "python3"
  },
  "language_info": {
   "codemirror_mode": {
    "name": "ipython",
    "version": 3
   },
   "file_extension": ".py",
   "mimetype": "text/x-python",
   "name": "python",
   "nbconvert_exporter": "python",
   "pygments_lexer": "ipython3",
   "version": "3.8.8"
  },
  "orig_nbformat": 4,
  "vscode": {
   "interpreter": {
    "hash": "3e1d7de5394ae006cb1b050b790a43d094ee6fb03cecb31a31118734e6247e4b"
   }
  }
 },
 "nbformat": 4,
 "nbformat_minor": 2
}
