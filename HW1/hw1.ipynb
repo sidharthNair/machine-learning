{
 "cells": [
  {
   "attachments": {},
   "cell_type": "markdown",
   "metadata": {},
   "source": [
    "# HW1 - CS391L Machine Learning WB (Spring 23)\n",
    "*Submission by - Sidharth Nair (sn25377)*"
   ]
  },
  {
   "attachments": {},
   "cell_type": "markdown",
   "metadata": {},
   "source": [
    "## Problem Statement"
   ]
  },
  {
   "attachments": {},
   "cell_type": "markdown",
   "metadata": {},
   "source": [
    "**Million Dollar Question**\n",
    "\n",
    "For this problem, you will work on the Netflix dataset, where one needs to predict missing (movie, user) ratings. The problem of predicting missing values for a recommender system is formally known as Collaborative Filtering. Read more about the Netflix challenge and the dataset [here](https://www.kaggle.com/datasets/netflix-inc/netflix-prize-data).\n",
    "\n",
    "The complete Netflix dataset has 480,189 users, 17,770 movies, and 100,480,507 ratings. So, the scale of the problem is huge. For this assignment we will work on a much smaller subset of 2000 users, 1821 movies and 220,845 ratings. You can download this subset dataset from Canvas > Files > HW1 > dataset.zip\n",
    "\n",
    "We will take an approach based on Matrix Factorization which was also used by a leading team for Netflix challenge. Let us first introduce some notation. Let there be $u$ users and $m$ movies and let $R\\in \\mathbb{R}^{u\\times m}$ be the ratings matrix where element $R_{ij}$ is the rating given by user $i$ for movie $j$. Note that the matrix $R$ has many missing values - in the entire Netflix dataset, $\\sim 94\\%$ of the entries are missing. Think of factoring the matrix $R\\approx U^T M$, where $U\\in \\mathbb{R}^{k\\times u}$ and $M \\in \\mathbb{R}^{k\\times m}$ and $k\\ll \\min(u, m)$. Intuitively, you can think of column $\\bm{u}_i$ of $U$ as a low-dimensional feature vector for the $i$-th user, and the column $\\bm{m}_j$ of $M$ as a low-dimensional feature vector for the $j$-th movie.\n",
    "\n",
    "Using the above notation,  the rating $R_{ij}$ for a movie $j$ by user $i$ is approximated as $R_{ij}\\approx \\bm{u}_i^T\\bm{m}_j$. Thus, the Matrix Factorization approach involves finding $U$ and $M$ such that $U^TM$ is as close to $R$ as possible. Formally the problem can be stated as:\n",
    "\\begin{equation}\n",
    "  %\\label{eq:prob1}\n",
    "  \\min_{U, M}\\ \\|R-U^TM\\|_F^2+\\lamda(\\|U\\|_F^2+\\|M\\|_F^2),\n",
    "\\end{equation}\n",
    "where $\\|\\cdot\\|_F$ denotes the Frobenius norm, and where we have added regularization terms (as in ridge regression) and the regularization parameter $\\lambda\\in [0, 1]$.\n",
    "\n",
    "This problem is in general hard to solve as both $U$ and $M$ need to be inferred and no known method guarantees the optimal solution. Instead, we use  a heuristic which works well in practice. We use the method of Alternating Minimization, where in each iteration we fix $U$ to compute $M$, and  subsequently fix $M$ to compute $U$, and so on. Now we describe the method to compute $M$ assuming $U$ to be fixed. \n",
    "\n",
    "Let $U$  be fixed, then equation 1 reduces to:\n",
    "\\begin{equation*}\n",
    "  %\\label{eq:prob2}\n",
    "  \\min_{M}\\ \\|R-U^TM\\|_F^2+\\lambda\\|M\\|_F^2,\n",
    "\\end{equation*}\n",
    "This problem can be decoupled in terms of columns of $M$, $\\bm{m}_j$, i.e., \n",
    "\\begin{equation*}\n",
    "  %\\label{eq:prob2}\n",
    "  \\min_{\\{\\bm{m}_1, \\bm{m}_2, \\dots, \\bm{m}_m\\}}\\ \\sum_j\\|\\bm{r}_j-U^T\\bm{m}_j\\|_2^2+\\lambda\\sum_j\\|\\bm{m}_j\\|_2^2,\n",
    "\\end{equation*}\n",
    "where $\\bm{r}_j$ denote the $j$-th column of $R$. Thus, we can solve a separate ridge regression problem for each $j$, i.e.,\n",
    "\\begin{equation*}\n",
    "  %\\label{eq:prob2}\n",
    "  \\min_{\\bm{m}_j}\\ \\|\\bm{r}_j-U^T\\bm{m}_j\\|_2^2+\\lambda\\|\\bm{m}_j\\|_2^2,\n",
    "\\end{equation*}\n",
    "However, the vector $\\bm{r}_j$, which represents ratings for  movie $j$, may have many missing values. Let there be $n_j$ known ratings for the movie $j$. Then, the ridge regression should be solved using only $n_j$ ratings, i.e. let $\\bm{r}_j^{({\\cal K_j})}\\in \\mathbb{R}^{n_j}$ denote the known ratings for movie $j$, and $U^{({\\cal K}_j)}\\in\\mathbb{R}^{k\\times n_j}$ denote the submatrix of $U$ for the corresponding users who rated movie $j$. Thus the problem can be written as:\n",
    "\\begin{equation*}\n",
    "  %\\label{eq:prob2}\n",
    "  \\min_{\\bm{m}_j}\\ \\|\\bm{r}_j^{({\\cal K_j})}-\\left(U^{({\\cal K}_j)}\\right)^T\\bm{m}_j\\|_2^2+\\lambda\\|\\bm{m}_j\\|_2^2,\n",
    "\\end{equation*}\n",
    "\n",
    "An analogous procedure can be used for computing $U$. \n",
    "\n",
    "So, for each iteration compute $U$ and $M$ using the procedure given above. Repeat this procedure for a fixed number of iterations. Initialize $U$ and $M$ randomly, fix the number of iterations $\\tau$ as $30$ and fix $k=10$. "
   ]
  },
  {
   "attachments": {},
   "cell_type": "markdown",
   "metadata": {},
   "source": [
    "## Implementation"
   ]
  },
  {
   "attachments": {},
   "cell_type": "markdown",
   "metadata": {},
   "source": [
    "### Imports"
   ]
  },
  {
   "cell_type": "code",
   "execution_count": 121,
   "metadata": {},
   "outputs": [],
   "source": [
    "import numpy as np\n",
    "import scipy as sp\n",
    "import matplotlib.pyplot as plt"
   ]
  },
  {
   "attachments": {},
   "cell_type": "markdown",
   "metadata": {},
   "source": [
    "### Data Loading"
   ]
  },
  {
   "cell_type": "code",
   "execution_count": 136,
   "metadata": {},
   "outputs": [],
   "source": [
    "trn_R = np.load('dataset/trn_R.npy')\n",
    "val_R = np.load('dataset/val_R.npy')"
   ]
  },
  {
   "attachments": {},
   "cell_type": "markdown",
   "metadata": {},
   "source": [
    "### Your Code to solve ridge regression"
   ]
  },
  {
   "cell_type": "code",
   "execution_count": 133,
   "metadata": {},
   "outputs": [],
   "source": [
    "def solve_ridge(X, y, lamda):\n",
    "    \"\"\"Solve the ridge regression problem.\n",
    "    \n",
    "    Args:\n",
    "        X: A numpy array of shape (N, D) containing a minibatch of N\n",
    "            data points; each point has dimension D.\n",
    "        y: A numpy array of shape (N,) containing labels for the minibatch.\n",
    "        lamda: The regularization strength.\n",
    "    \n",
    "    Returns:\n",
    "        w: A numpy array of shape (D,) containing the learned weight.\n",
    "    \"\"\"\n",
    "    X_t = X.transpose()\n",
    "    w = np.matmul(np.linalg.inv(np.matmul(X_t, X) + lamda * np.identity(X.shape[1])), np.matmul(X_t, y))\n",
    "    return w"
   ]
  },
  {
   "attachments": {},
   "cell_type": "markdown",
   "metadata": {},
   "source": [
    "### Your Code to solve matrix completion using alternating minimization"
   ]
  },
  {
   "cell_type": "code",
   "execution_count": 132,
   "metadata": {},
   "outputs": [],
   "source": [
    "def update_U(U, M, R, lamda):\n",
    "    \"\"\"Update the user matrix U assuming M is fixed\n",
    "    \n",
    "    Args:\n",
    "        U: A numpy array of shape (k, N) containing the current user matrix.\n",
    "        M: A numpy array of shape (k, M) containing the current movie matrix.\n",
    "        R: A numpy array of shape (N, M) containing the ratings matrix (NOTE: R has many missing values, indicated by 0, which should be ignored during training)\n",
    "        lamda: The regularization strength.\n",
    "    \n",
    "    Returns:\n",
    "        U: A numpy array of shape (k, N) containing the updated user matrix.\n",
    "    \"\"\"\n",
    "    k = U.shape[0]\n",
    "    num_users = R.shape[0]\n",
    "    for user in range(num_users):\n",
    "        # get nonzero ratings for user\n",
    "        indices = np.nonzero(R[user])\n",
    "        n_i = len(indices[0])\n",
    "        r_i = np.take(R[user], indices).reshape((n_i,))\n",
    "        # get corresponding movie columns\n",
    "        M_i = np.take(M, indices, axis=1).squeeze(axis=1).transpose()\n",
    "        # call ridge regression\n",
    "        u_i = solve_ridge(M_i, r_i, lamda)\n",
    "        # replace column of U\n",
    "        U[:, user] = u_i[:]\n",
    "    return U\n",
    "\n",
    "def update_M(U, M, R, lamda):\n",
    "    \"\"\"Update the movie matrix M assuming U is fixed\n",
    "    \n",
    "    Args:\n",
    "        U: A numpy array of shape (k, N) containing the current user matrix.\n",
    "        M: A numpy array of shape (k, M) containing the current movie matrix.\n",
    "        R: A numpy array of shape (N, M) containing the ratings matrix (NOTE: R has many missing values, indicated by 0, which should be ignored during training)\n",
    "        lamda: The regularization strength.\n",
    "    \n",
    "    Returns:\n",
    "        M: A numpy array of shape (k, M) containing the updated movie matrix.\n",
    "    \"\"\"\n",
    "    k = M.shape[0]\n",
    "    num_movies = R.shape[1]\n",
    "    for movie in range(num_movies):\n",
    "        # get nonzero ratings for movie\n",
    "        indices = np.nonzero(R[:, movie])\n",
    "        n_i = len(indices[0])\n",
    "        r_i = np.take(R[:, movie], indices).reshape((n_i,))\n",
    "        # get corresponding user columns\n",
    "        U_i = np.take(U, indices, axis=1).squeeze(axis=1).transpose()\n",
    "        # call ridge regression\n",
    "        m_i = solve_ridge(U_i, r_i, lamda)\n",
    "        # replace column of M\n",
    "        M[:, movie] = m_i[:]\n",
    "    return M"
   ]
  },
  {
   "cell_type": "code",
   "execution_count": 107,
   "metadata": {},
   "outputs": [],
   "source": [
    "def train(U, M, R, lamda, tau):\n",
    "    \"\"\"Train U, M using alternating minimization\n",
    "    \n",
    "    Args:\n",
    "        U: A numpy array of shape (k, N) containing the user matrix.\n",
    "        M: A numpy array of shape (k, M) containing the movie matrix.\n",
    "        R: A numpy array of shape (N, M) containing the ratings matrix (NOTE: R has many missing values, indicated by 0, which should be ignored during training)\n",
    "        lamda: The regularization strength.\n",
    "        tau: The number of iterations to train for.\n",
    "    \n",
    "    Returns:\n",
    "        U: A numpy array of shape (k, N) containing the trained user matrix.\n",
    "        M: A numpy array of shape (k, M) containing the trained movie matrix.\n",
    "    \"\"\"\n",
    "    for i in range(tau):\n",
    "        update_U(U, M, R, lamda)\n",
    "        update_M(U, M, R, lamda)\n",
    "    \n",
    "    return U, M"
   ]
  },
  {
   "attachments": {},
   "cell_type": "markdown",
   "metadata": {},
   "source": [
    "### Your code for evaluation"
   ]
  },
  {
   "cell_type": "code",
   "execution_count": 108,
   "metadata": {},
   "outputs": [],
   "source": [
    "def evaluate(pred_R, true_R):\n",
    "    \"\"\"Evaluate the model on the given rating matrix R and return the RMSE\n",
    "\n",
    "    Args:\n",
    "        pred_R: A numpy array of shape (N, M) containing the predicted ratings matrix.\n",
    "        true_R: A numpy array of shape (N, M) containing the true ratings matrix (NOTE: R has many missing values, indicated by 0, which should be ignored during evaluation)\n",
    "    \n",
    "    Returns:\n",
    "        rmse: The RMSE of the predicted ratings matrix.\n",
    "    \"\"\"\n",
    "    return np.sqrt(np.mean((pred_R-true_R)**2))"
   ]
  },
  {
   "attachments": {},
   "cell_type": "markdown",
   "metadata": {},
   "source": [
    "## Execute your code and answer HW questions"
   ]
  },
  {
   "attachments": {},
   "cell_type": "markdown",
   "metadata": {},
   "source": [
    "### Define hyperparameters ($\\lambda$, $\\tau$, $k$) and initialize learnable parameters $U$, $M$"
   ]
  },
  {
   "cell_type": "code",
   "execution_count": 109,
   "metadata": {},
   "outputs": [],
   "source": [
    "# Your code here\n",
    "lamda = 0\n",
    "tau = 30\n",
    "k = 10\n",
    "\n",
    "U = np.random.rand(k, trn_R.shape[0])\n",
    "M = np.random.rand(k, trn_R.shape[1])"
   ]
  },
  {
   "attachments": {},
   "cell_type": "markdown",
   "metadata": {},
   "source": [
    "### **Question 1**\n",
    "Select $λ = 0$ and compute $U$ and $M$. What are the problems you face?\n",
    "### **Your answer**\n",
    "TODO: "
   ]
  },
  {
   "cell_type": "code",
   "execution_count": 110,
   "metadata": {},
   "outputs": [
    {
     "ename": "LinAlgError",
     "evalue": "Singular matrix",
     "output_type": "error",
     "traceback": [
      "\u001b[0;31m---------------------------------------------------------------------------\u001b[0m",
      "\u001b[0;31mLinAlgError\u001b[0m                               Traceback (most recent call last)",
      "Cell \u001b[0;32mIn[110], line 3\u001b[0m\n\u001b[1;32m      1\u001b[0m \u001b[39m# Your code here\u001b[39;00m\n\u001b[1;32m      2\u001b[0m lamda \u001b[39m=\u001b[39m \u001b[39m0\u001b[39m\n\u001b[0;32m----> 3\u001b[0m train(U, M, trn_R, lamda, tau)\n",
      "Cell \u001b[0;32mIn[107], line 17\u001b[0m, in \u001b[0;36mtrain\u001b[0;34m(U, M, R, lamda, tau)\u001b[0m\n\u001b[1;32m     15\u001b[0m \u001b[39mfor\u001b[39;00m i \u001b[39min\u001b[39;00m \u001b[39mrange\u001b[39m(tau):\n\u001b[1;32m     16\u001b[0m     update_U(U, M, R, lamda)\n\u001b[0;32m---> 17\u001b[0m     update_M(U, M, R, lamda)\n\u001b[1;32m     19\u001b[0m \u001b[39mreturn\u001b[39;00m U, M\n",
      "Cell \u001b[0;32mIn[106], line 59\u001b[0m, in \u001b[0;36mupdate_M\u001b[0;34m(U, M, R, lamda)\u001b[0m\n\u001b[1;32m     57\u001b[0m U_i \u001b[39m=\u001b[39m np\u001b[39m.\u001b[39mtake(U, indices, axis\u001b[39m=\u001b[39m\u001b[39m1\u001b[39m)\u001b[39m.\u001b[39msqueeze(axis\u001b[39m=\u001b[39m\u001b[39m1\u001b[39m)\u001b[39m.\u001b[39mtranspose()\n\u001b[1;32m     58\u001b[0m \u001b[39m# call ridge regression\u001b[39;00m\n\u001b[0;32m---> 59\u001b[0m m_i \u001b[39m=\u001b[39m solve_ridge(U_i, r_i, lamda)\n\u001b[1;32m     60\u001b[0m \u001b[39m# replace column of M\u001b[39;00m\n\u001b[1;32m     61\u001b[0m M[:, movie] \u001b[39m=\u001b[39m m_i[:]\n",
      "Cell \u001b[0;32mIn[105], line 14\u001b[0m, in \u001b[0;36msolve_ridge\u001b[0;34m(X, y, lamda)\u001b[0m\n\u001b[1;32m      2\u001b[0m \u001b[39m\"\"\"Solve the ridge regression problem.\u001b[39;00m\n\u001b[1;32m      3\u001b[0m \u001b[39m\u001b[39;00m\n\u001b[1;32m      4\u001b[0m \u001b[39mArgs:\u001b[39;00m\n\u001b[0;32m   (...)\u001b[0m\n\u001b[1;32m     11\u001b[0m \u001b[39m    w: A numpy array of shape (D,) containing the learned weight.\u001b[39;00m\n\u001b[1;32m     12\u001b[0m \u001b[39m\"\"\"\u001b[39;00m\n\u001b[1;32m     13\u001b[0m X_t \u001b[39m=\u001b[39m X\u001b[39m.\u001b[39mtranspose()\n\u001b[0;32m---> 14\u001b[0m w \u001b[39m=\u001b[39m np\u001b[39m.\u001b[39mmatmul(np\u001b[39m.\u001b[39;49mlinalg\u001b[39m.\u001b[39;49minv(np\u001b[39m.\u001b[39;49mmatmul(X_t, X) \u001b[39m+\u001b[39;49m lamda \u001b[39m*\u001b[39;49m np\u001b[39m.\u001b[39;49midentity(X\u001b[39m.\u001b[39;49mshape[\u001b[39m1\u001b[39;49m])), np\u001b[39m.\u001b[39mmatmul(X_t, y))\n\u001b[1;32m     15\u001b[0m \u001b[39mreturn\u001b[39;00m w\n",
      "File \u001b[0;32m<__array_function__ internals>:180\u001b[0m, in \u001b[0;36minv\u001b[0;34m(*args, **kwargs)\u001b[0m\n",
      "File \u001b[0;32m~/.local/lib/python3.8/site-packages/numpy/linalg/linalg.py:552\u001b[0m, in \u001b[0;36minv\u001b[0;34m(a)\u001b[0m\n\u001b[1;32m    550\u001b[0m signature \u001b[39m=\u001b[39m \u001b[39m'\u001b[39m\u001b[39mD->D\u001b[39m\u001b[39m'\u001b[39m \u001b[39mif\u001b[39;00m isComplexType(t) \u001b[39melse\u001b[39;00m \u001b[39m'\u001b[39m\u001b[39md->d\u001b[39m\u001b[39m'\u001b[39m\n\u001b[1;32m    551\u001b[0m extobj \u001b[39m=\u001b[39m get_linalg_error_extobj(_raise_linalgerror_singular)\n\u001b[0;32m--> 552\u001b[0m ainv \u001b[39m=\u001b[39m _umath_linalg\u001b[39m.\u001b[39;49minv(a, signature\u001b[39m=\u001b[39;49msignature, extobj\u001b[39m=\u001b[39;49mextobj)\n\u001b[1;32m    553\u001b[0m \u001b[39mreturn\u001b[39;00m wrap(ainv\u001b[39m.\u001b[39mastype(result_t, copy\u001b[39m=\u001b[39m\u001b[39mFalse\u001b[39;00m))\n",
      "File \u001b[0;32m~/.local/lib/python3.8/site-packages/numpy/linalg/linalg.py:89\u001b[0m, in \u001b[0;36m_raise_linalgerror_singular\u001b[0;34m(err, flag)\u001b[0m\n\u001b[1;32m     88\u001b[0m \u001b[39mdef\u001b[39;00m \u001b[39m_raise_linalgerror_singular\u001b[39m(err, flag):\n\u001b[0;32m---> 89\u001b[0m     \u001b[39mraise\u001b[39;00m LinAlgError(\u001b[39m\"\u001b[39m\u001b[39mSingular matrix\u001b[39m\u001b[39m\"\u001b[39m)\n",
      "\u001b[0;31mLinAlgError\u001b[0m: Singular matrix"
     ]
    }
   ],
   "source": [
    "# Your code here\n",
    "lamda = 0\n",
    "train(U, M, trn_R, lamda, tau)"
   ]
  },
  {
   "attachments": {},
   "cell_type": "markdown",
   "metadata": {},
   "source": [
    "### **Question 2**\n",
    "train your model on multiple values for $\\lambda$ and record the Root Mean Squared Error (RMSE) on both validation and train set for each run. Report the following:\n",
    "- Plot of $\\lambda$ vs RMSE on validation set and training set\n",
    "- Optimal RMSE on validation set along with the optimal $\\lambda$\n",
    "\n",
    "### **Your answer**\n",
    "TODO: \n"
   ]
  },
  {
   "cell_type": "code",
   "execution_count": 119,
   "metadata": {},
   "outputs": [
    {
     "name": "stdout",
     "output_type": "stream",
     "text": [
      "Optimal RMSE: 0.15686382724050935 Optimal lamda 485165195.40978974\n"
     ]
    },
    {
     "data": {
      "image/png": "[encoded data removed]",
      "text/plain": [
       "<Figure size 640x480 with 1 Axes>"
      ]
     },
     "metadata": {},
     "output_type": "display_data"
    }
   ],
   "source": [
    "# Your code here\n",
    "lamda_exps = [x for x in range(-5, 25, 5)]\n",
    "errors = []\n",
    "optimal_lamda = None\n",
    "optimal_rmse = None\n",
    "for lamda_exp in lamda_exps:\n",
    "    lamda = np.e ** lamda_exp\n",
    "    trained_U, trained_M = train(U, M, trn_R, lamda, tau)\n",
    "    pred_R = np.matmul(trained_U.transpose(), trained_M)\n",
    "    rmse = evaluate(pred_R, val_R)\n",
    "    errors.append(rmse)\n",
    "    if optimal_rmse is None or rmse < optimal_rmse:\n",
    "        optimal_rmse = rmse\n",
    "        optimal_lamda = lamda\n",
    "print(\"Optimal RMSE:\", optimal_rmse, \"Optimal lamda\", lamda)\n",
    "\n",
    "plt.scatter(lamda_exps, errors)\n",
    "plt.title(\"λ vs RMSE\")\n",
    "plt.xlabel(\"ln(λ)\")\n",
    "plt.ylabel(\"RMSE\")\n",
    "plt.xticks(lamda_exps)\n",
    "plt.show()"
   ]
  },
  {
   "attachments": {},
   "cell_type": "markdown",
   "metadata": {},
   "source": [
    "### **Question 3** \n",
    "Now let us consider preprocessing the data in order to remove some inherent bias in the data. First center the complete data using global mean. Now, center each row of the ratings matrix $R$ to mean 0, i.e. remove user mean for each row. Similarly center each coumn of the resulting matrix. Perform the above operations on known ratings only. After this preprocessing, repeat question 2 above and report the optimal RMSE on validation set. NOTE that after factorization, you need to add the global mean and the user/movie bias for prediction. Report RMSE obtained. How does RMSE change? Explain.\n",
    "### **Your Answer**\n",
    "TODO: "
   ]
  },
  {
   "cell_type": "code",
   "execution_count": 142,
   "metadata": {},
   "outputs": [
    {
     "name": "stdout",
     "output_type": "stream",
     "text": [
      "220845 6770\n"
     ]
    }
   ],
   "source": [
    "print(np.count_nonzero(trn_R), np.count_nonzero(val_R))"
   ]
  },
  {
   "cell_type": "code",
   "execution_count": 140,
   "metadata": {},
   "outputs": [
    {
     "name": "stdout",
     "output_type": "stream",
     "text": [
      "Optimal RMSE: 0.25767606869381476 Optimal lamda 20.085536923187664\n"
     ]
    },
    {
     "data": {
      "image/png": "[encoded data removed]",
      "text/plain": [
       "<Figure size 640x480 with 1 Axes>"
      ]
     },
     "metadata": {},
     "output_type": "display_data"
    }
   ],
   "source": [
    "# Your code here\n",
    "global_mean = np.mean(trn_R)\n",
    "centered_trn_R = trn_R - global_mean\n",
    "\n",
    "row_means = np.mean(centered_trn_R, axis=1)\n",
    "for i in range(len(row_means)):\n",
    "    centered_trn_R[i] = centered_trn_R[i] - row_means[i]\n",
    "\n",
    "col_means = np.mean(centered_trn_R, axis=0)\n",
    "for i in range(len(col_means)):\n",
    "    centered_trn_R[:, i] = centered_trn_R[:, i] - col_means[i]\n",
    "\n",
    "lamda_exps = [x for x in range(-3, 4, 1)]\n",
    "errors = []\n",
    "optimal_lamda = None\n",
    "optimal_rmse = None\n",
    "for lamda_exp in lamda_exps:\n",
    "    lamda = np.e ** lamda_exp\n",
    "    trained_U, trained_M = train(U, M, centered_trn_R, lamda, tau)\n",
    "    pred_R = np.matmul(trained_U.transpose(), trained_M)\n",
    "    pred_R += global_mean\n",
    "    for i in range(len(row_means)):\n",
    "        centered_trn_R[i] = centered_trn_R[i] + row_means[i]\n",
    "    for i in range(len(col_means)):\n",
    "        centered_trn_R[:, i] = centered_trn_R[:, i] + col_means[i]\n",
    "    rmse = evaluate(pred_R, val_R)\n",
    "    errors.append(rmse)\n",
    "    if optimal_rmse is None or rmse < optimal_rmse:\n",
    "        optimal_rmse = rmse\n",
    "        optimal_lamda = lamda\n",
    "print(\"Optimal RMSE:\", optimal_rmse, \"Optimal lamda\", lamda)\n",
    "\n",
    "plt.scatter(lamda_exps, errors)\n",
    "plt.title(\"λ vs RMSE\")\n",
    "plt.xlabel(\"ln(λ)\")\n",
    "plt.ylabel(\"RMSE\")\n",
    "plt.xticks(lamda_exps)\n",
    "plt.show()"
   ]
  },
  {
   "cell_type": "code",
   "execution_count": 146,
   "metadata": {},
   "outputs": [
    {
     "name": "stdout",
     "output_type": "stream",
     "text": [
      "[[0.21097694 0.21097694 0.21097694 ... 0.21097694 0.21097694 0.21097694]\n",
      " [0.21097694 0.21097694 0.21097694 ... 0.21097694 0.21097694 0.21097694]\n",
      " [0.21097694 0.21097694 0.21097694 ... 0.21097694 0.21097694 0.21097694]\n",
      " ...\n",
      " [0.21097694 0.21097694 0.21097694 ... 0.21097694 0.21097694 0.21097694]\n",
      " [0.21097694 0.21097694 0.21097694 ... 0.21097694 0.21097694 0.21097694]\n",
      " [0.21097694 0.21097694 0.21097694 ... 0.21097694 0.21097694 0.21097694]]\n",
      "0.21097693574958815 0.03559088412959984 0.08202306425041093\n"
     ]
    }
   ],
   "source": [
    "print(pred_R)\n",
    "print(global_mean, row_means[0], col_means[0])"
   ]
  },
  {
   "attachments": {},
   "cell_type": "markdown",
   "metadata": {},
   "source": [
    "### **Question 4**\n",
    "What other initialization for $U$ and $M$ can be used? What is the problem with using the zero matrix as the initialization for $U$ and $M$.\n",
    "### **Your answer**\n",
    "TODO: "
   ]
  },
  {
   "cell_type": "code",
   "execution_count": null,
   "metadata": {},
   "outputs": [],
   "source": [
    "# Your code here"
   ]
  }
 ],
 "metadata": {
  "kernelspec": {
   "display_name": "Python 3",
   "language": "python",
   "name": "python3"
  },
  "language_info": {
   "codemirror_mode": {
    "name": "ipython",
    "version": 3
   },
   "file_extension": ".py",
   "mimetype": "text/x-python",
   "name": "python",
   "nbconvert_exporter": "python",
   "pygments_lexer": "ipython3",
   "version": "3.8.10"
  },
  "orig_nbformat": 4,
  "vscode": {
   "interpreter": {
    "hash": "916dbcbb3f70747c44a77c7bcd40155683ae19c65e1c03b4aa3499c5328201f1"
   }
  }
 },
 "nbformat": 4,
 "nbformat_minor": 2
}
